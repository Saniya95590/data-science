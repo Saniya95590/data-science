{
 "cells": [
  {
   "cell_type": "markdown",
   "metadata": {},
   "source": [
    "Create\n",
    "\n",
    "Methods\n",
    "Set operations\n",
    "- union\n",
    "- intesection\n",
    "- difference\n",
    "- symmetric difference\n",
    "- issubset\n",
    "- issuperset\n"
   ]
  },
  {
   "cell_type": "code",
   "execution_count": 2,
   "metadata": {},
   "outputs": [
    {
     "name": "stdout",
     "output_type": "stream",
     "text": [
      "{2, 3, 4, 5, 6, 7}\n"
     ]
    }
   ],
   "source": [
    "x={2,3,4,5,6,7,2,7}\n",
    "print(x)"
   ]
  },
  {
   "cell_type": "code",
   "execution_count": 3,
   "metadata": {},
   "outputs": [
    {
     "name": "stdout",
     "output_type": "stream",
     "text": [
      "{1, 2, 3, 4, 5}\n",
      "{1, 2, 3, 4, 5, 6, 7, 8}\n"
     ]
    }
   ],
   "source": [
    "y={1,2,3,4,5}\n",
    "z={1,2,3,4,4,5,5,7,5,8,6,}\n",
    "print(y)\n",
    "print(z)"
   ]
  },
  {
   "cell_type": "code",
   "execution_count": 4,
   "metadata": {},
   "outputs": [
    {
     "name": "stdout",
     "output_type": "stream",
     "text": [
      "{'o', 'e', 'l', 'h'}\n"
     ]
    }
   ],
   "source": [
    "a=set(\"hello\")\n",
    "print(a)"
   ]
  },
  {
   "cell_type": "code",
   "execution_count": 5,
   "metadata": {},
   "outputs": [
    {
     "name": "stdout",
     "output_type": "stream",
     "text": [
      "{1, 3, 4, 5, 6, 7, 8}\n"
     ]
    }
   ],
   "source": [
    "b=set([1,4,3,4,6,5,8,7])\n",
    "print(b)"
   ]
  },
  {
   "cell_type": "code",
   "execution_count": 10,
   "metadata": {},
   "outputs": [
    {
     "name": "stdout",
     "output_type": "stream",
     "text": [
      "{5, 7, 9, 11, 13, 15, 17}\n"
     ]
    }
   ],
   "source": [
    "c=set(range(5,19,2))\n",
    "print(c)"
   ]
  },
  {
   "cell_type": "code",
   "execution_count": 11,
   "metadata": {},
   "outputs": [
    {
     "name": "stdout",
     "output_type": "stream",
     "text": [
      "{32, 34, 67, 68, 11, 12, 13, 78, 56}\n"
     ]
    }
   ],
   "source": [
    "data= set()\n",
    "data.add(12)\n",
    "data.add(11)\n",
    "data.add(13)\n",
    "data.add(34)\n",
    "data.add(32)\n",
    "data.add(56)\n",
    "data.add(67)\n",
    "data.add(78)\n",
    "data.add(68)\n",
    "print(data)"
   ]
  },
  {
   "cell_type": "code",
   "execution_count": 15,
   "metadata": {},
   "outputs": [
    {
     "name": "stdout",
     "output_type": "stream",
     "text": [
      "{11, 12, 13, 78, 56}\n"
     ]
    }
   ],
   "source": [
    "#to remove 1st element of set\n",
    "data.pop()\n",
    "print(data)"
   ]
  },
  {
   "cell_type": "code",
   "execution_count": 16,
   "metadata": {},
   "outputs": [
    {
     "name": "stdout",
     "output_type": "stream",
     "text": [
      "{11, 12, 13, 56}\n"
     ]
    }
   ],
   "source": [
    "data.discard(78)\n",
    "print(data)"
   ]
  },
  {
   "cell_type": "code",
   "execution_count": 17,
   "metadata": {},
   "outputs": [
    {
     "name": "stdout",
     "output_type": "stream",
     "text": [
      "set()\n"
     ]
    }
   ],
   "source": [
    "data.clear()\n",
    "print(data)"
   ]
  },
  {
   "cell_type": "code",
   "execution_count": 28,
   "metadata": {},
   "outputs": [
    {
     "name": "stdout",
     "output_type": "stream",
     "text": [
      "{1, 2, 3, 6, 7}\n",
      "{8, 3, 12, 6}\n",
      "{9, 12, 5, 23}\n",
      "{1, 2, 3, 6, 7, 8, 12}\n",
      "{1, 2, 3, 6, 7, 8, 12}\n",
      "{3, 6}\n",
      "{3, 6}\n",
      "{1, 2, 7}\n",
      "{1, 2, 7}\n",
      "False\n",
      "True\n"
     ]
    }
   ],
   "source": [
    "a={1,2,3,6,7}\n",
    "b={6,8,3,12}\n",
    "c={5,9,23,12}\n",
    "d={3,6,7}\n",
    "print(a)\n",
    "print(b)\n",
    "print(c)\n",
    "print(a.union(b))\n",
    "print(a|b)     # \"|\" operator is used for union.\n",
    "print(a.intersection(b))\n",
    "print(a&b)     # \"&\" operator is used for intersection.\n",
    "print(a.difference(b))\n",
    "print(a-b)       # \"-\" operator is used for difference.\n",
    "print(a.issuperset(b))\n",
    "print(d.issubset(a))"
   ]
  },
  {
   "cell_type": "code",
   "execution_count": null,
   "metadata": {},
   "outputs": [],
   "source": []
  }
 ],
 "metadata": {
  "kernelspec": {
   "display_name": "base",
   "language": "python",
   "name": "python3"
  },
  "language_info": {
   "codemirror_mode": {
    "name": "ipython",
    "version": 3
   },
   "file_extension": ".py",
   "mimetype": "text/x-python",
   "name": "python",
   "nbconvert_exporter": "python",
   "pygments_lexer": "ipython3",
   "version": "3.12.4"
  }
 },
 "nbformat": 4,
 "nbformat_minor": 2
}
