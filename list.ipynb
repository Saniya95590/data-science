{
 "cells": [
  {
   "cell_type": "code",
   "execution_count": 2,
   "metadata": {},
   "outputs": [
    {
     "name": "stdout",
     "output_type": "stream",
     "text": [
      "['setting', 'camera', 'gallery', 'whatsapp', 'candy crush', 'google', 'file manager', 'swiggy', 'zomato']\n"
     ]
    }
   ],
   "source": [
    "apps=['setting','camera','gallery','whatsapp','candy crush','google','file manager','swiggy','zomato']\n",
    "print(apps)"
   ]
  },
  {
   "cell_type": "code",
   "execution_count": 15,
   "metadata": {},
   "outputs": [
    {
     "name": "stdout",
     "output_type": "stream",
     "text": [
      "file manager\n",
      "candy crush\n",
      "['setting', 'camera', 'gallery']\n",
      "['setting', 'gallery', 'candy crush', 'file manager', 'zomato']\n",
      "['camera', 'whatsapp', 'google', 'swiggy']\n",
      "['whatsapp', 'candy crush', 'google', 'file manager', 'swiggy', 'zomato']\n",
      "['setting', 'camera', 'gallery', 'whatsapp', 'candy crush']\n",
      "['setting', 'gallery', 'candy crush', 'file manager', 'zomato']\n"
     ]
    }
   ],
   "source": [
    "print(apps[6])\n",
    "print(apps[-5])\n",
    "print(apps[0:3])\n",
    "print(apps[0:9:2])\n",
    "print(apps[1:9:2])\n",
    "print(apps[3:])\n",
    "print(apps[:5])\n",
    "print(apps[::2])"
   ]
  },
  {
   "cell_type": "code",
   "execution_count": 20,
   "metadata": {},
   "outputs": [
    {
     "name": "stdout",
     "output_type": "stream",
     "text": [
      "['setting', 'camera', 'Tinder', 'gallery', 'whatsapp', 'candy crush', 'google', 'file manager', 'swiggy', 'zomato', 'tinder', 'tinder', 'Tinder', 'facebook']\n"
     ]
    }
   ],
   "source": [
    "apps.append('facebook')\n",
    "print(apps)"
   ]
  },
  {
   "cell_type": "code",
   "execution_count": 35,
   "metadata": {},
   "outputs": [
    {
     "name": "stdout",
     "output_type": "stream",
     "text": [
      "['setting', 'camera', 'Tinder', 'whatsapp', 'candy crush', 'google', 'file manager', 'swiggy', 'zomato']\n"
     ]
    }
   ],
   "source": [
    "apps.insert(2,'Tinder')\n",
    "print(apps)"
   ]
  },
  {
   "cell_type": "code",
   "execution_count": 38,
   "metadata": {},
   "outputs": [
    {
     "name": "stdout",
     "output_type": "stream",
     "text": [
      "['setting', 'camera', 'Tinder', 'whatsapp', 'candy crush', 'google', 'file manager', 'swiggy']\n"
     ]
    }
   ],
   "source": [
    "apps.pop(8)\n",
    "print(apps)"
   ]
  },
  {
   "cell_type": "code",
   "execution_count": 39,
   "metadata": {},
   "outputs": [
    {
     "name": "stdout",
     "output_type": "stream",
     "text": [
      "['setting', 'camera', 'whatsapp', 'candy crush', 'google', 'file manager', 'swiggy']\n"
     ]
    }
   ],
   "source": [
    "apps.remove('Tinder')\n",
    "print(apps)"
   ]
  },
  {
   "cell_type": "code",
   "execution_count": 40,
   "metadata": {},
   "outputs": [
    {
     "name": "stdout",
     "output_type": "stream",
     "text": [
      "['camera', 'candy crush', 'file manager', 'google', 'setting', 'swiggy', 'whatsapp']\n"
     ]
    }
   ],
   "source": [
    "apps.sort()\n",
    "print(apps)"
   ]
  },
  {
   "cell_type": "code",
   "execution_count": 41,
   "metadata": {},
   "outputs": [
    {
     "name": "stdout",
     "output_type": "stream",
     "text": [
      "['camera', 'candy crush', 'file manager', 'google', 'setting', 'swiggy', 'whatsapp']\n"
     ]
    }
   ],
   "source": [
    "apps2=apps.copy()\n",
    "print(apps2)"
   ]
  },
  {
   "cell_type": "code",
   "execution_count": 42,
   "metadata": {},
   "outputs": [
    {
     "name": "stdout",
     "output_type": "stream",
     "text": [
      "[]\n"
     ]
    }
   ],
   "source": [
    "apps.clear()\n",
    "print(apps)"
   ]
  },
  {
   "cell_type": "code",
   "execution_count": 43,
   "metadata": {},
   "outputs": [
    {
     "name": "stdout",
     "output_type": "stream",
     "text": [
      "['camera', 'candy crush', 'file manager', 'google', 'setting', 'swiggy', 'whatsapp', 'gpay', 'maps', 'play store']\n"
     ]
    }
   ],
   "source": [
    "apps3=['gpay','maps','play store']\n",
    "apps2.extend(apps3)\n",
    "print(apps2)"
   ]
  },
  {
   "cell_type": "code",
   "execution_count": 48,
   "metadata": {},
   "outputs": [
    {
     "name": "stdout",
     "output_type": "stream",
     "text": [
      "['gpay', 'maps', 'play store', 'camera', 'candy crush', 'file manager', 'google', 'setting', 'swiggy', 'whatsapp', 'gpay', 'maps', 'play store', 'gpay', 'maps', 'play store']\n"
     ]
    }
   ],
   "source": [
    "apps3=['gpay','maps','play store']\n",
    "apps3.extend(apps2)\n",
    "print(apps3)"
   ]
  },
  {
   "cell_type": "code",
   "execution_count": null,
   "metadata": {},
   "outputs": [],
   "source": []
  }
 ],
 "metadata": {
  "kernelspec": {
   "display_name": "base",
   "language": "python",
   "name": "python3"
  },
  "language_info": {
   "codemirror_mode": {
    "name": "ipython",
    "version": 3
   },
   "file_extension": ".py",
   "mimetype": "text/x-python",
   "name": "python",
   "nbconvert_exporter": "python",
   "pygments_lexer": "ipython3",
   "version": "3.12.4"
  }
 },
 "nbformat": 4,
 "nbformat_minor": 2
}
