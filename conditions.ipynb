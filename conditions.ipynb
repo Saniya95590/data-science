{
 "cells": [
  {
   "cell_type": "markdown",
   "metadata": {},
   "source": [
    "conditions in python\n",
    "- block of code\n",
    "- if condition \n",
    "- if else condition\n",
    "- if elif ladder\n",
    "- nested if else \n",
    "- short  hand if else \n",
    "- match case"
   ]
  },
  {
   "cell_type": "code",
   "execution_count": 10,
   "metadata": {},
   "outputs": [
    {
     "name": "stdout",
     "output_type": "stream",
     "text": [
      "bye\n"
     ]
    }
   ],
   "source": [
    "a=10\n",
    "a=-3\n",
    "if a>5:\n",
    "    print(\"a is greater than 5\")\n",
    "    print('hi')\n",
    "print('bye')"
   ]
  },
  {
   "cell_type": "code",
   "execution_count": 9,
   "metadata": {},
   "outputs": [
    {
     "name": "stdout",
     "output_type": "stream",
     "text": [
      "very good\n"
     ]
    }
   ],
   "source": [
    "word = input('enter a long word')\n",
    "if len(word) > 10:\n",
    "    print(\"very good\")"
   ]
  },
  {
   "cell_type": "code",
   "execution_count": 11,
   "metadata": {},
   "outputs": [
    {
     "name": "stdout",
     "output_type": "stream",
     "text": [
      "good\n"
     ]
    }
   ],
   "source": [
    "n=[12,35,23,56]\n",
    "if sum(n)>100:\n",
    "    print(\"good\")\n",
    "else:\n",
    "    print(\"bad\")"
   ]
  },
  {
   "cell_type": "code",
   "execution_count": 4,
   "metadata": {},
   "outputs": [
    {
     "name": "stdout",
     "output_type": "stream",
     "text": [
      "Grade is F\n"
     ]
    }
   ],
   "source": [
    "# if elif ladder\n",
    "marks = 5\n",
    "if marks > 85:\n",
    "    grade = 'A'\n",
    "elif marks > 70:\n",
    "    grade = 'B'\n",
    "elif marks > 60:\n",
    "    grade = 'c'\n",
    "elif marks > 50:\n",
    "    grade = 'D'\n",
    "else:\n",
    "    grade = 'F'\n",
    "print(f'Grade is {grade}')\n",
    "\n"
   ]
  },
  {
   "cell_type": "code",
   "execution_count": 6,
   "metadata": {},
   "outputs": [
    {
     "name": "stdout",
     "output_type": "stream",
     "text": [
      "B 22 is the largest\n"
     ]
    }
   ],
   "source": [
    "# Find the largest number\n",
    "a = 10\n",
    "b = 22\n",
    "c = 14\n",
    "if a>b and a>c:\n",
    "    print(f\"A {a} is the largest\")\n",
    "elif b>a and b>c:\n",
    "    print(f\"B {b} is the largest\")\n",
    "else:\n",
    "    print(f\"C {c} is the largest\")\n"
   ]
  },
  {
   "cell_type": "code",
   "execution_count": 11,
   "metadata": {},
   "outputs": [
    {
     "name": "stdout",
     "output_type": "stream",
     "text": [
      "☠️Enter valid details\n"
     ]
    }
   ],
   "source": [
    "# nested if \n",
    "un=input('enter a username')\n",
    "pw=input('enter a password')\n",
    "if un!='' and pw!='':\n",
    "    if un=='admin':\n",
    "        if pw=='admin':\n",
    "            print(\"✅welcome admin\")\n",
    "        else:\n",
    "            print(\"❌wrong password\")\n",
    "    else:\n",
    "        print(\"❌Invalid Username\")\n",
    "else:\n",
    "    print(\"☠️Enter valid details\")\n"
   ]
  },
  {
   "cell_type": "code",
   "execution_count": 16,
   "metadata": {},
   "outputs": [
    {
     "name": "stdout",
     "output_type": "stream",
     "text": [
      "✅✅✅\n",
      "✅\n"
     ]
    }
   ],
   "source": [
    "# short hand if else \n",
    "a = 10\n",
    "if a>=10:\n",
    "    print(\"✅✅✅\")\n",
    "else:                       # ctrl+? for comment on and off\n",
    "    print('❌❌❌')\n",
    "print(\"✅\") if a>=10 else print(\"❌\")"
   ]
  },
  {
   "cell_type": "code",
   "execution_count": 20,
   "metadata": {},
   "outputs": [
    {
     "name": "stdout",
     "output_type": "stream",
     "text": [
      "What would you like to eat\n",
      "Menu\n",
      "1. Pizza🍕\n",
      "2. Burger🍔\n",
      "3. Sandwich🥪\n",
      "4. Pasta🍝\n",
      "Enter a number:\n",
      "your order is Sandwich\n",
      " Total amount=50\n"
     ]
    }
   ],
   "source": [
    "# match case (not similar to switch case)\n",
    "print(\"What would you like to eat\")\n",
    "print(\"Menu\")\n",
    "print(\"1. Pizza🍕\")\n",
    "print(\"2. Burger🍔\")\n",
    "print(\"3. Sandwich🥪\")\n",
    "print(\"4. Pasta🍝\")\n",
    "print(\"Enter a number:\")\n",
    "ch=int(input(\">>>\"))\n",
    "match ch:\n",
    "    case 1:\n",
    "        print(\"your order is Pizza\\n Total amount=400\")\n",
    "    case 2:\n",
    "        print(\"your order is Burger\\n Total amount=100\")\n",
    "    case 3:\n",
    "        print(\"your order is Sandwich\\n Total amount=50\")\n",
    "    case 4:\n",
    "        print(\"your order is Pasta\\n Total amount=200\")\n",
    "    case _:\n",
    "        print(\"Invalid choice\")\n",
    "    \n",
    "\n",
    "\n",
    "\n",
    "\n"
   ]
  },
  {
   "cell_type": "code",
   "execution_count": 22,
   "metadata": {},
   "outputs": [
    {
     "name": "stdout",
     "output_type": "stream",
     "text": [
      "What would you like to eat\n",
      "Menu\n",
      "1. Pizza🍕\n",
      "2. Burger🍔\n",
      "3. Sandwich🥪\n",
      "4. Pasta🍝\n",
      "Enter a number:\n",
      "Your order is Pasta\n",
      "Total amount=200\n"
     ]
    }
   ],
   "source": [
    "print(\"What would you like to eat\")\n",
    "print(\"Menu\")\n",
    "print(\"1. Pizza🍕\")\n",
    "print(\"2. Burger🍔\")\n",
    "print(\"3. Sandwich🥪\")\n",
    "print(\"4. Pasta🍝\")\n",
    "print(\"Enter a number:\")\n",
    "ch=int(input(\">>>\"))\n",
    "if ch==1:\n",
    "    print(\"Your order is Pizza🍕\\nTotal amount=400\")\n",
    "elif ch==2:\n",
    "    print(\"Your order is Burger🍔\\nTotal amount=100\")\n",
    "elif ch==3:\n",
    "    print(\"Your order is Sandwich🥪\\nTotal amount=50\")\n",
    "elif ch==4:\n",
    "    print(\"Your order is Pasta🍝\\nTotal amount=200\")\n",
    "else:\n",
    "    print(\"Invalid choice\")"
   ]
  },
  {
   "cell_type": "code",
   "execution_count": null,
   "metadata": {},
   "outputs": [],
   "source": []
  }
 ],
 "metadata": {
  "kernelspec": {
   "display_name": "base",
   "language": "python",
   "name": "python3"
  },
  "language_info": {
   "codemirror_mode": {
    "name": "ipython",
    "version": 3
   },
   "file_extension": ".py",
   "mimetype": "text/x-python",
   "name": "python",
   "nbconvert_exporter": "python",
   "pygments_lexer": "ipython3",
   "version": "3.12.4"
  }
 },
 "nbformat": 4,
 "nbformat_minor": 2
}
