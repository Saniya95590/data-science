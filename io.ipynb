{
 "cells": [
  {
   "cell_type": "code",
   "execution_count": 1,
   "metadata": {},
   "outputs": [
    {
     "name": "stdout",
     "output_type": "stream",
     "text": [
      "10 20 200\n",
      "10 * 20 = 200\n"
     ]
    }
   ],
   "source": [
    "a=10\n",
    "b=20\n",
    "c=a*b\n",
    "print(a,b,c)\n",
    "print(a,\"*\",b,\"=\",c)"
   ]
  },
  {
   "cell_type": "code",
   "execution_count": 3,
   "metadata": {},
   "outputs": [
    {
     "name": "stdout",
     "output_type": "stream",
     "text": [
      "Name = Sara ,Age = 25 ,Job = SDE 1\n"
     ]
    }
   ],
   "source": [
    "name='Sara'\n",
    "age= 25\n",
    "job=\"SDE 1\"\n",
    "print(\"Name\",\"=\",name,\",Age\",\"=\",age,\",Job\",\"=\",job)"
   ]
  },
  {
   "cell_type": "code",
   "execution_count": 21,
   "metadata": {},
   "outputs": [
    {
     "name": "stdout",
     "output_type": "stream",
     "text": [
      "Simple Interest Calculator\n",
      "____________________\n",
      "Principle=120000\n",
      "Rate=2.5\n",
      "Time=10\n",
      "Simple interest=30000.0\n"
     ]
    }
   ],
   "source": [
    "p=120000\n",
    "r=2.5\n",
    "t=10\n",
    "si=p*r*t/100\n",
    "\n",
    "print(\"Simple Interest Calculator\")\n",
    "print(\"_\"*20)\n",
    "print(f\"Principle={p}\")\n",
    "print(f\"Rate={r}\")\n",
    "print(f\"Time={t}\")\n",
    "print(f\"Simple interest={si}\")"
   ]
  },
  {
   "cell_type": "code",
   "execution_count": 29,
   "metadata": {},
   "outputs": [
    {
     "name": "stdout",
     "output_type": "stream",
     "text": [
      "Simple Interest Calculator\n",
      "______________________________\n",
      "Principle           120K\n",
      "Rate                2.5%\n",
      "Time                 10y\n",
      "______________________________\n",
      "Simple interest  30000.0\n",
      "______________________________\n"
     ]
    }
   ],
   "source": [
    "\n",
    "\n",
    "print(\"Simple Interest Calculator\")\n",
    "print(\"_\"*30)\n",
    "print(f\"Principle{p//1000:14}K\")\n",
    "print(f\"Rate{r:19}%\")\n",
    "print(f\"Time{t:19}y\")\n",
    "print(\"_\"*30)\n",
    "print(f\"Simple interest{si:9}\")\n",
    "print(\"_\"*30)"
   ]
  },
  {
   "cell_type": "code",
   "execution_count": 30,
   "metadata": {},
   "outputs": [
    {
     "name": "stdout",
     "output_type": "stream",
     "text": [
      "panda\n",
      "Nice\n"
     ]
    }
   ],
   "source": [
    "fav_movie=input(\"Please enter your favourite movie\")\n",
    "print(fav_movie)\n",
    "print(\"Nice\")"
   ]
  },
  {
   "cell_type": "code",
   "execution_count": 36,
   "metadata": {},
   "outputs": [
    {
     "name": "stdout",
     "output_type": "stream",
     "text": [
      "Result is\n",
      "24\n",
      "24\n"
     ]
    }
   ],
   "source": [
    "a=int(input(\"Enter a number\"))\n",
    "b=int(input(\"Enter another number\"))\n",
    "print(\"Result is\")\n",
    "print(int(a) + int(b)) \n",
    "print(a + b)\n"
   ]
  },
  {
   "cell_type": "code",
   "execution_count": null,
   "metadata": {},
   "outputs": [],
   "source": []
  }
 ],
 "metadata": {
  "kernelspec": {
   "display_name": "base",
   "language": "python",
   "name": "python3"
  },
  "language_info": {
   "codemirror_mode": {
    "name": "ipython",
    "version": 3
   },
   "file_extension": ".py",
   "mimetype": "text/x-python",
   "name": "python",
   "nbconvert_exporter": "python",
   "pygments_lexer": "ipython3",
   "version": "3.12.4"
  }
 },
 "nbformat": 4,
 "nbformat_minor": 2
}
