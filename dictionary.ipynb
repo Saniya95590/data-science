{
 "cells": [
  {
   "cell_type": "markdown",
   "metadata": {},
   "source": [
    "DICTIONARY\n",
    "- how to declare it\n",
    "- how to acess key and values of a dictionary\n",
    "- how to use loops in dictionary\n"
   ]
  },
  {
   "cell_type": "code",
   "execution_count": 1,
   "metadata": {},
   "outputs": [
    {
     "name": "stdout",
     "output_type": "stream",
     "text": [
      "{'name': 'Saniya', 'class': '12th', 'age': 17}\n"
     ]
    }
   ],
   "source": [
    "student={\n",
    "    \"name\":\"Saniya\",\n",
    "    \"class\":\"12th\",\n",
    "    \"age\":17\n",
    "}\n",
    "print(student)"
   ]
  },
  {
   "cell_type": "code",
   "execution_count": 2,
   "metadata": {},
   "outputs": [
    {
     "name": "stdout",
     "output_type": "stream",
     "text": [
      "{'name': 'Riya', 'age': 27, 'salary': '30000'}\n"
     ]
    }
   ],
   "source": [
    "info=dict(name='Riya',age=27,salary='30000')\n",
    "print(info)"
   ]
  },
  {
   "cell_type": "code",
   "execution_count": 3,
   "metadata": {},
   "outputs": [
    {
     "name": "stdout",
     "output_type": "stream",
     "text": [
      "{'name': 'John', 'age': 17}\n"
     ]
    }
   ],
   "source": [
    "info2=dict(name=input(\"Enter name\"),age=int(input(\"Enter age\")))\n",
    "print(info2)"
   ]
  },
  {
   "cell_type": "code",
   "execution_count": 4,
   "metadata": {},
   "outputs": [
    {
     "name": "stdout",
     "output_type": "stream",
     "text": [
      "{'name': 'John', 'age': 17}\n"
     ]
    }
   ],
   "source": [
    "print(info2)"
   ]
  },
  {
   "cell_type": "code",
   "execution_count": 5,
   "metadata": {},
   "outputs": [
    {
     "name": "stdout",
     "output_type": "stream",
     "text": [
      "Saniya\n",
      "17\n"
     ]
    }
   ],
   "source": [
    "#1st method\n",
    "print(student['name'])\n",
    "print(student['age'])"
   ]
  },
  {
   "cell_type": "code",
   "execution_count": 6,
   "metadata": {},
   "outputs": [
    {
     "name": "stdout",
     "output_type": "stream",
     "text": [
      "Saniya\n",
      "17\n"
     ]
    }
   ],
   "source": [
    "#2nd method\n",
    "print(student.get('name'))\n",
    "print(student.get('age'))\n"
   ]
  },
  {
   "cell_type": "code",
   "execution_count": 7,
   "metadata": {},
   "outputs": [
    {
     "name": "stdout",
     "output_type": "stream",
     "text": [
      "{'name': 'Saniya', 'class': '12th', 'age': 17, 'school': 'DPS', 'city': 'Lucknow'}\n"
     ]
    }
   ],
   "source": [
    "#to add items in a dictionary\n",
    "student['school']='DPS'\n",
    "student['city']='Lucknow'\n",
    "print(student)"
   ]
  },
  {
   "cell_type": "code",
   "execution_count": 8,
   "metadata": {},
   "outputs": [
    {
     "name": "stdout",
     "output_type": "stream",
     "text": [
      "name\n",
      "class\n",
      "age\n",
      "school\n",
      "city\n"
     ]
    }
   ],
   "source": [
    "for x in student:\n",
    "    print(x)"
   ]
  },
  {
   "cell_type": "code",
   "execution_count": 9,
   "metadata": {},
   "outputs": [
    {
     "name": "stdout",
     "output_type": "stream",
     "text": [
      "name : Saniya\n",
      "class : 12th\n",
      "age : 17\n",
      "school : DPS\n",
      "city : Lucknow\n"
     ]
    }
   ],
   "source": [
    "for k,v in student.items():\n",
    "    print(f'{k} : {v}')"
   ]
  },
  {
   "cell_type": "code",
   "execution_count": 10,
   "metadata": {},
   "outputs": [
    {
     "name": "stdout",
     "output_type": "stream",
     "text": [
      "dict_keys(['name', 'class', 'age', 'school', 'city'])\n",
      "dict_values(['Saniya', '12th', 17, 'DPS', 'Lucknow'])\n",
      "dict_items([('name', 'Saniya'), ('class', '12th'), ('age', 17), ('school', 'DPS'), ('city', 'Lucknow')])\n"
     ]
    }
   ],
   "source": [
    "print(student.keys())\n",
    "print(student.values())\n",
    "print(student.items())"
   ]
  },
  {
   "cell_type": "code",
   "execution_count": 11,
   "metadata": {},
   "outputs": [
    {
     "name": "stdout",
     "output_type": "stream",
     "text": [
      "{'emp001': {'name': 'John', 'age': 27, 'dept': 'HR', 'Salary': 30000}, 'emp002': {'name': 'Riya', 'age': 25, 'dept': 'IT', 'Salary': 35000}, 'emp003': {'name': 'Mike', 'age': 23, 'dept': 'Finance', 'Salary': 40000}}\n"
     ]
    }
   ],
   "source": [
    "company={\n",
    "    'emp001': {\n",
    "        'name':'John',\n",
    "        'age': 27,\n",
    "        'dept':'HR',\n",
    "        'Salary':30000  \n",
    "    },\n",
    "    'emp002':{\n",
    "        'name':'Riya',\n",
    "        'age': 25,\n",
    "        'dept':'IT',\n",
    "        'Salary':35000\n",
    "    },\n",
    "    'emp003':{\n",
    "        'name':'Mike',\n",
    "        'age': 23,\n",
    "        'dept':'Finance',\n",
    "        'Salary':40000\n",
    "    }\n",
    "}\n",
    "print(company)"
   ]
  },
  {
   "cell_type": "code",
   "execution_count": 12,
   "metadata": {},
   "outputs": [],
   "source": [
    "from pprint import pp"
   ]
  },
  {
   "cell_type": "code",
   "execution_count": 13,
   "metadata": {},
   "outputs": [
    {
     "name": "stdout",
     "output_type": "stream",
     "text": [
      "{'emp001': {'name': 'John', 'age': 27, 'dept': 'HR', 'Salary': 30000},\n",
      " 'emp002': {'name': 'Riya', 'age': 25, 'dept': 'IT', 'Salary': 35000},\n",
      " 'emp003': {'name': 'Mike', 'age': 23, 'dept': 'Finance', 'Salary': 40000}}\n"
     ]
    }
   ],
   "source": [
    "pp(company)"
   ]
  },
  {
   "cell_type": "code",
   "execution_count": 14,
   "metadata": {},
   "outputs": [
    {
     "name": "stdout",
     "output_type": "stream",
     "text": [
      "HR\n"
     ]
    }
   ],
   "source": [
    "print(company['emp001']['dept'])"
   ]
  },
  {
   "cell_type": "code",
   "execution_count": 15,
   "metadata": {},
   "outputs": [
    {
     "name": "stdout",
     "output_type": "stream",
     "text": [
      "{'emp001': {'name': 'John', 'age': 27, 'dept': 'HR', 'Salary': 30000},\n",
      " 'emp002': {'name': 'Riya', 'age': 25, 'dept': 'IT', 'Salary': 35000},\n",
      " 'emp003': {'name': 'Mike', 'age': 23, 'dept': 'Finance', 'Salary': 40000},\n",
      " 'emp004': {'name': 'Sam', 'age': 34, 'dept': 'Admin', 'Salary': 25000}}\n"
     ]
    }
   ],
   "source": [
    "company['emp004']={\n",
    "        'name':'Sam',\n",
    "        'age': 34,\n",
    "        'dept':'Admin',\n",
    "        'Salary':25000\n",
    "}\n",
    "pp(company)\n"
   ]
  },
  {
   "cell_type": "code",
   "execution_count": 16,
   "metadata": {},
   "outputs": [
    {
     "name": "stdout",
     "output_type": "stream",
     "text": [
      "{'lucknow': [25, 30, 45], 'delhi': [25, 40, 45], 'chennai': [35, 30, 25]}\n"
     ]
    }
   ],
   "source": [
    "temp={\n",
    "    'lucknow':[25,30,45],\n",
    "    'delhi':[25,40,45],\n",
    "    'chennai':[35,30,25]\n",
    "}\n",
    "print(temp)"
   ]
  },
  {
   "cell_type": "code",
   "execution_count": 17,
   "metadata": {},
   "outputs": [
    {
     "name": "stdout",
     "output_type": "stream",
     "text": [
      "45\n",
      "40\n"
     ]
    }
   ],
   "source": [
    "print(temp['lucknow'][2])\n",
    "print(temp['delhi'][1])"
   ]
  },
  {
   "cell_type": "code",
   "execution_count": 18,
   "metadata": {},
   "outputs": [
    {
     "name": "stdout",
     "output_type": "stream",
     "text": [
      "Average temp in delhi: 36.666666666666664\n"
     ]
    }
   ],
   "source": [
    "print('Average temp in delhi:', sum(temp['delhi'])/len(temp['delhi']) )"
   ]
  },
  {
   "cell_type": "code",
   "execution_count": 19,
   "metadata": {},
   "outputs": [
    {
     "name": "stdout",
     "output_type": "stream",
     "text": [
      "{'Alex': {'english': 70, 'hindi': 80, 'science': 78},\n",
      " 'Riya': {'english': 90, 'hindi': 88, 'science': 98}}\n"
     ]
    }
   ],
   "source": [
    "report={\n",
    "    'Alex': {\n",
    "        'english':70,\n",
    "        'hindi':80,\n",
    "        'science':78\n",
    "    },\n",
    "    'Riya': {\n",
    "        'english':90,\n",
    "        'hindi':88,\n",
    "        'science':98\n",
    "    }\n",
    "}\n",
    "pp(report)"
   ]
  },
  {
   "cell_type": "code",
   "execution_count": 27,
   "metadata": {},
   "outputs": [
    {
     "name": "stdout",
     "output_type": "stream",
     "text": [
      "Alex\n",
      "-> english 70\n",
      "-> hindi 80\n",
      "-> science 78\n",
      "-> Total Marks: 228\n",
      "Riya\n",
      "-> english 90\n",
      "-> hindi 88\n",
      "-> science 98\n",
      "-> Total Marks: 276\n"
     ]
    }
   ],
   "source": [
    "for student,marks in report.items():\n",
    "    print(student)\n",
    "    for subject,mark in marks.items():\n",
    "        print('->',subject,mark)\n",
    "    print('-> Total Marks:',sum(marks.values()))"
   ]
  },
  {
   "cell_type": "code",
   "execution_count": null,
   "metadata": {},
   "outputs": [],
   "source": []
  },
  {
   "cell_type": "code",
   "execution_count": null,
   "metadata": {},
   "outputs": [],
   "source": []
  }
 ],
 "metadata": {
  "kernelspec": {
   "display_name": "base",
   "language": "python",
   "name": "python3"
  },
  "language_info": {
   "codemirror_mode": {
    "name": "ipython",
    "version": 3
   },
   "file_extension": ".py",
   "mimetype": "text/x-python",
   "name": "python",
   "nbconvert_exporter": "python",
   "pygments_lexer": "ipython3",
   "version": "3.12.4"
  }
 },
 "nbformat": 4,
 "nbformat_minor": 2
}
